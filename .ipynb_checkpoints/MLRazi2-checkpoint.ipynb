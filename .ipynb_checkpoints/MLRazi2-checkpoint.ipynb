{
 "cells": [
  {
   "cell_type": "code",
   "execution_count": 14,
   "metadata": {},
   "outputs": [],
   "source": [
    "import pandas as pd\n",
    "import numpy as np\n"
   ]
  },
  {
   "cell_type": "code",
   "execution_count": 9,
   "metadata": {},
   "outputs": [],
   "source": [
    "death_df = pd.read_csv('https://raw.githubusercontent.com/CSSEGISandData/COVID-19/master/csse_covid_19_data/csse_covid_19_time_series/time_series_covid19_deaths_global.csv')\n",
    "confirmed_df = pd.read_csv('https://raw.githubusercontent.com/CSSEGISandData/COVID-19/master/csse_covid_19_data/csse_covid_19_time_series/time_series_covid19_confirmed_global.csv')\n",
    "recovered_df = pd.read_csv('https://raw.githubusercontent.com/CSSEGISandData/COVID-19/master/csse_covid_19_data/csse_covid_19_time_series/time_series_covid19_recovered_global.csv')\n",
    "country_df = pd.read_csv('https://raw.githubusercontent.com/CSSEGISandData/COVID-19/web-data/data/cases_country.csv')"
   ]
  },
  {
   "cell_type": "code",
   "execution_count": 10,
   "metadata": {},
   "outputs": [
    {
     "data": {
      "text/html": [
       "<div>\n",
       "<style scoped>\n",
       "    .dataframe tbody tr th:only-of-type {\n",
       "        vertical-align: middle;\n",
       "    }\n",
       "\n",
       "    .dataframe tbody tr th {\n",
       "        vertical-align: top;\n",
       "    }\n",
       "\n",
       "    .dataframe thead th {\n",
       "        text-align: right;\n",
       "    }\n",
       "</style>\n",
       "<table border=\"1\" class=\"dataframe\">\n",
       "  <thead>\n",
       "    <tr style=\"text-align: right;\">\n",
       "      <th></th>\n",
       "      <th>Country_Region</th>\n",
       "      <th>Last_Update</th>\n",
       "      <th>Lat</th>\n",
       "      <th>Long_</th>\n",
       "      <th>Confirmed</th>\n",
       "      <th>Deaths</th>\n",
       "      <th>Recovered</th>\n",
       "      <th>Active</th>\n",
       "    </tr>\n",
       "  </thead>\n",
       "  <tbody>\n",
       "    <tr>\n",
       "      <th>0</th>\n",
       "      <td>Australia</td>\n",
       "      <td>2020-04-07 00:39:33</td>\n",
       "      <td>-25.0000</td>\n",
       "      <td>133.0000</td>\n",
       "      <td>5797</td>\n",
       "      <td>40</td>\n",
       "      <td>1080</td>\n",
       "      <td>4677</td>\n",
       "    </tr>\n",
       "    <tr>\n",
       "      <th>1</th>\n",
       "      <td>Austria</td>\n",
       "      <td>2020-04-07 00:32:22</td>\n",
       "      <td>47.5162</td>\n",
       "      <td>14.5501</td>\n",
       "      <td>12297</td>\n",
       "      <td>220</td>\n",
       "      <td>3463</td>\n",
       "      <td>8614</td>\n",
       "    </tr>\n",
       "    <tr>\n",
       "      <th>2</th>\n",
       "      <td>Canada</td>\n",
       "      <td>2020-04-07 00:39:18</td>\n",
       "      <td>60.0010</td>\n",
       "      <td>-95.0010</td>\n",
       "      <td>16667</td>\n",
       "      <td>322</td>\n",
       "      <td>3338</td>\n",
       "      <td>0</td>\n",
       "    </tr>\n",
       "    <tr>\n",
       "      <th>3</th>\n",
       "      <td>China</td>\n",
       "      <td>2020-04-06 09:37:01</td>\n",
       "      <td>30.5928</td>\n",
       "      <td>114.3055</td>\n",
       "      <td>82665</td>\n",
       "      <td>3335</td>\n",
       "      <td>77310</td>\n",
       "      <td>2020</td>\n",
       "    </tr>\n",
       "    <tr>\n",
       "      <th>4</th>\n",
       "      <td>Denmark</td>\n",
       "      <td>2020-04-07 00:32:22</td>\n",
       "      <td>56.0000</td>\n",
       "      <td>10.0000</td>\n",
       "      <td>4875</td>\n",
       "      <td>187</td>\n",
       "      <td>1489</td>\n",
       "      <td>3199</td>\n",
       "    </tr>\n",
       "  </tbody>\n",
       "</table>\n",
       "</div>"
      ],
      "text/plain": [
       "  Country_Region          Last_Update      Lat     Long_  Confirmed  Deaths  \\\n",
       "0      Australia  2020-04-07 00:39:33 -25.0000  133.0000       5797      40   \n",
       "1        Austria  2020-04-07 00:32:22  47.5162   14.5501      12297     220   \n",
       "2         Canada  2020-04-07 00:39:18  60.0010  -95.0010      16667     322   \n",
       "3          China  2020-04-06 09:37:01  30.5928  114.3055      82665    3335   \n",
       "4        Denmark  2020-04-07 00:32:22  56.0000   10.0000       4875     187   \n",
       "\n",
       "   Recovered  Active  \n",
       "0       1080    4677  \n",
       "1       3463    8614  \n",
       "2       3338       0  \n",
       "3      77310    2020  \n",
       "4       1489    3199  "
      ]
     },
     "execution_count": 10,
     "metadata": {},
     "output_type": "execute_result"
    }
   ],
   "source": [
    "country_df.head()"
   ]
  },
  {
   "cell_type": "code",
   "execution_count": 13,
   "metadata": {},
   "outputs": [],
   "source": [
    "country_df.columns = map(str.lower, country_df.columns)\n",
    "confirmed_df.columns = map(str.lower, confirmed_df.columns)\n",
    "death_df.columns = map(str.lower, death_df.columns)\n",
    "recovered_df.columns = map(str.lower, recovered_df.columns)"
   ]
  },
  {
   "cell_type": "code",
   "execution_count": 12,
   "metadata": {},
   "outputs": [],
   "source": [
    "confirmed_df = confirmed_df.rename(columns={'province/state': 'state', 'country/region': 'country'})\n",
    "recovered_df = confirmed_df.rename(columns={'province/state': 'state', 'country/region': 'country'})\n",
    "death_df = death_df.rename(columns={'province/state': 'state', 'country/region': 'country'})\n",
    "country_df = country_df.rename(columns={'country_region': 'country'})"
   ]
  },
  {
   "cell_type": "code",
   "execution_count": 6,
   "metadata": {},
   "outputs": [],
   "source": [
    "confirmed_total = int(country_df['confirmed'].sum())"
   ]
  },
  {
   "cell_type": "code",
   "execution_count": 7,
   "metadata": {},
   "outputs": [],
   "source": [
    "deaths_total = int(country_df['deaths'].sum())\n",
    "recovered_total = int(country_df['recovered'].sum())\n",
    "active_total = int(country_df['active'].sum())"
   ]
  },
  {
   "cell_type": "code",
   "execution_count": 8,
   "metadata": {},
   "outputs": [],
   "source": [
    "sorted_country_df = country_df.sort_values('confirmed', ascending= False)"
   ]
  },
  {
   "cell_type": "code",
   "execution_count": 9,
   "metadata": {},
   "outputs": [],
   "source": [
    "def highlight_col(x):\n",
    "    r = 'background-color: red'\n",
    "    p = 'background-color: purple'\n",
    "    g = 'background-color: grey'\n",
    "    df1 = pd.DataFrame('', index=x.index, columns=x.columns)\n",
    "    df1.iloc[:, 4] = p\n",
    "    df1.iloc[:, 5] = r\n",
    "    df1.iloc[:, 6] = g\n",
    "    return df1"
   ]
  },
  {
   "cell_type": "code",
   "execution_count": 10,
   "metadata": {},
   "outputs": [
    {
     "data": {
      "text/html": [
       "<style  type=\"text/css\" >\n",
       "    #T_8938cdf4_7867_11ea_a665_784f43970535row0_col4 {\n",
       "            background-color:  purple;\n",
       "        }    #T_8938cdf4_7867_11ea_a665_784f43970535row0_col5 {\n",
       "            background-color:  red;\n",
       "        }    #T_8938cdf4_7867_11ea_a665_784f43970535row0_col6 {\n",
       "            background-color:  grey;\n",
       "        }    #T_8938cdf4_7867_11ea_a665_784f43970535row1_col4 {\n",
       "            background-color:  purple;\n",
       "        }    #T_8938cdf4_7867_11ea_a665_784f43970535row1_col5 {\n",
       "            background-color:  red;\n",
       "        }    #T_8938cdf4_7867_11ea_a665_784f43970535row1_col6 {\n",
       "            background-color:  grey;\n",
       "        }    #T_8938cdf4_7867_11ea_a665_784f43970535row2_col4 {\n",
       "            background-color:  purple;\n",
       "        }    #T_8938cdf4_7867_11ea_a665_784f43970535row2_col5 {\n",
       "            background-color:  red;\n",
       "        }    #T_8938cdf4_7867_11ea_a665_784f43970535row2_col6 {\n",
       "            background-color:  grey;\n",
       "        }    #T_8938cdf4_7867_11ea_a665_784f43970535row3_col4 {\n",
       "            background-color:  purple;\n",
       "        }    #T_8938cdf4_7867_11ea_a665_784f43970535row3_col5 {\n",
       "            background-color:  red;\n",
       "        }    #T_8938cdf4_7867_11ea_a665_784f43970535row3_col6 {\n",
       "            background-color:  grey;\n",
       "        }    #T_8938cdf4_7867_11ea_a665_784f43970535row4_col4 {\n",
       "            background-color:  purple;\n",
       "        }    #T_8938cdf4_7867_11ea_a665_784f43970535row4_col5 {\n",
       "            background-color:  red;\n",
       "        }    #T_8938cdf4_7867_11ea_a665_784f43970535row4_col6 {\n",
       "            background-color:  grey;\n",
       "        }</style><table id=\"T_8938cdf4_7867_11ea_a665_784f43970535\" ><thead>    <tr>        <th class=\"blank level0\" ></th>        <th class=\"col_heading level0 col0\" >country</th>        <th class=\"col_heading level0 col1\" >last_update</th>        <th class=\"col_heading level0 col2\" >lat</th>        <th class=\"col_heading level0 col3\" >long_</th>        <th class=\"col_heading level0 col4\" >confirmed</th>        <th class=\"col_heading level0 col5\" >deaths</th>        <th class=\"col_heading level0 col6\" >recovered</th>        <th class=\"col_heading level0 col7\" >active</th>    </tr></thead><tbody>\n",
       "                <tr>\n",
       "                        <th id=\"T_8938cdf4_7867_11ea_a665_784f43970535level0_row0\" class=\"row_heading level0 row0\" >17</th>\n",
       "                        <td id=\"T_8938cdf4_7867_11ea_a665_784f43970535row0_col0\" class=\"data row0 col0\" >US</td>\n",
       "                        <td id=\"T_8938cdf4_7867_11ea_a665_784f43970535row0_col1\" class=\"data row0 col1\" >2020-04-06 23:22:15</td>\n",
       "                        <td id=\"T_8938cdf4_7867_11ea_a665_784f43970535row0_col2\" class=\"data row0 col2\" >40.000000</td>\n",
       "                        <td id=\"T_8938cdf4_7867_11ea_a665_784f43970535row0_col3\" class=\"data row0 col3\" >-100.000000</td>\n",
       "                        <td id=\"T_8938cdf4_7867_11ea_a665_784f43970535row0_col4\" class=\"data row0 col4\" >366614</td>\n",
       "                        <td id=\"T_8938cdf4_7867_11ea_a665_784f43970535row0_col5\" class=\"data row0 col5\" >10783</td>\n",
       "                        <td id=\"T_8938cdf4_7867_11ea_a665_784f43970535row0_col6\" class=\"data row0 col6\" >19581</td>\n",
       "                        <td id=\"T_8938cdf4_7867_11ea_a665_784f43970535row0_col7\" class=\"data row0 col7\" >0</td>\n",
       "            </tr>\n",
       "            <tr>\n",
       "                        <th id=\"T_8938cdf4_7867_11ea_a665_784f43970535level0_row1\" class=\"row_heading level0 row1\" >160</th>\n",
       "                        <td id=\"T_8938cdf4_7867_11ea_a665_784f43970535row1_col0\" class=\"data row1 col0\" >Spain</td>\n",
       "                        <td id=\"T_8938cdf4_7867_11ea_a665_784f43970535row1_col1\" class=\"data row1 col1\" >2020-04-06 23:21:55</td>\n",
       "                        <td id=\"T_8938cdf4_7867_11ea_a665_784f43970535row1_col2\" class=\"data row1 col2\" >40.463667</td>\n",
       "                        <td id=\"T_8938cdf4_7867_11ea_a665_784f43970535row1_col3\" class=\"data row1 col3\" >-3.749220</td>\n",
       "                        <td id=\"T_8938cdf4_7867_11ea_a665_784f43970535row1_col4\" class=\"data row1 col4\" >136675</td>\n",
       "                        <td id=\"T_8938cdf4_7867_11ea_a665_784f43970535row1_col5\" class=\"data row1 col5\" >13341</td>\n",
       "                        <td id=\"T_8938cdf4_7867_11ea_a665_784f43970535row1_col6\" class=\"data row1 col6\" >40437</td>\n",
       "                        <td id=\"T_8938cdf4_7867_11ea_a665_784f43970535row1_col7\" class=\"data row1 col7\" >82897</td>\n",
       "            </tr>\n",
       "            <tr>\n",
       "                        <th id=\"T_8938cdf4_7867_11ea_a665_784f43970535level0_row2\" class=\"row_heading level0 row2\" >10</th>\n",
       "                        <td id=\"T_8938cdf4_7867_11ea_a665_784f43970535row2_col0\" class=\"data row2 col0\" >Italy</td>\n",
       "                        <td id=\"T_8938cdf4_7867_11ea_a665_784f43970535row2_col1\" class=\"data row2 col1\" >2020-04-06 23:21:55</td>\n",
       "                        <td id=\"T_8938cdf4_7867_11ea_a665_784f43970535row2_col2\" class=\"data row2 col2\" >41.871900</td>\n",
       "                        <td id=\"T_8938cdf4_7867_11ea_a665_784f43970535row2_col3\" class=\"data row2 col3\" >12.567400</td>\n",
       "                        <td id=\"T_8938cdf4_7867_11ea_a665_784f43970535row2_col4\" class=\"data row2 col4\" >132547</td>\n",
       "                        <td id=\"T_8938cdf4_7867_11ea_a665_784f43970535row2_col5\" class=\"data row2 col5\" >16523</td>\n",
       "                        <td id=\"T_8938cdf4_7867_11ea_a665_784f43970535row2_col6\" class=\"data row2 col6\" >22837</td>\n",
       "                        <td id=\"T_8938cdf4_7867_11ea_a665_784f43970535row2_col7\" class=\"data row2 col7\" >93187</td>\n",
       "            </tr>\n",
       "            <tr>\n",
       "                        <th id=\"T_8938cdf4_7867_11ea_a665_784f43970535level0_row3\" class=\"row_heading level0 row3\" >7</th>\n",
       "                        <td id=\"T_8938cdf4_7867_11ea_a665_784f43970535row3_col0\" class=\"data row3 col0\" >Germany</td>\n",
       "                        <td id=\"T_8938cdf4_7867_11ea_a665_784f43970535row3_col1\" class=\"data row3 col1\" >2020-04-06 23:21:55</td>\n",
       "                        <td id=\"T_8938cdf4_7867_11ea_a665_784f43970535row3_col2\" class=\"data row3 col2\" >51.165700</td>\n",
       "                        <td id=\"T_8938cdf4_7867_11ea_a665_784f43970535row3_col3\" class=\"data row3 col3\" >10.451500</td>\n",
       "                        <td id=\"T_8938cdf4_7867_11ea_a665_784f43970535row3_col4\" class=\"data row3 col4\" >103374</td>\n",
       "                        <td id=\"T_8938cdf4_7867_11ea_a665_784f43970535row3_col5\" class=\"data row3 col5\" >1810</td>\n",
       "                        <td id=\"T_8938cdf4_7867_11ea_a665_784f43970535row3_col6\" class=\"data row3 col6\" >28700</td>\n",
       "                        <td id=\"T_8938cdf4_7867_11ea_a665_784f43970535row3_col7\" class=\"data row3 col7\" >72864</td>\n",
       "            </tr>\n",
       "            <tr>\n",
       "                        <th id=\"T_8938cdf4_7867_11ea_a665_784f43970535level0_row4\" class=\"row_heading level0 row4\" >6</th>\n",
       "                        <td id=\"T_8938cdf4_7867_11ea_a665_784f43970535row4_col0\" class=\"data row4 col0\" >France</td>\n",
       "                        <td id=\"T_8938cdf4_7867_11ea_a665_784f43970535row4_col1\" class=\"data row4 col1\" >2020-04-06 23:21:55</td>\n",
       "                        <td id=\"T_8938cdf4_7867_11ea_a665_784f43970535row4_col2\" class=\"data row4 col2\" >46.227600</td>\n",
       "                        <td id=\"T_8938cdf4_7867_11ea_a665_784f43970535row4_col3\" class=\"data row4 col3\" >2.213700</td>\n",
       "                        <td id=\"T_8938cdf4_7867_11ea_a665_784f43970535row4_col4\" class=\"data row4 col4\" >98963</td>\n",
       "                        <td id=\"T_8938cdf4_7867_11ea_a665_784f43970535row4_col5\" class=\"data row4 col5\" >8926</td>\n",
       "                        <td id=\"T_8938cdf4_7867_11ea_a665_784f43970535row4_col6\" class=\"data row4 col6\" >17428</td>\n",
       "                        <td id=\"T_8938cdf4_7867_11ea_a665_784f43970535row4_col7\" class=\"data row4 col7\" >72609</td>\n",
       "            </tr>\n",
       "    </tbody></table>"
      ],
      "text/plain": [
       "<pandas.io.formats.style.Styler at 0x103ab05d0>"
      ]
     },
     "execution_count": 10,
     "metadata": {},
     "output_type": "execute_result"
    }
   ],
   "source": [
    "sorted_country_df.head(5).style.apply(highlight_col,axis=None)"
   ]
  },
  {
   "cell_type": "code",
   "execution_count": 4,
   "metadata": {},
   "outputs": [],
   "source": [
    "import plotly.express as px"
   ]
  },
  {
   "cell_type": "code",
   "execution_count": 5,
   "metadata": {},
   "outputs": [
    {
     "ename": "NameError",
     "evalue": "name 'sorted_country_df' is not defined",
     "output_type": "error",
     "traceback": [
      "\u001b[0;31m---------------------------------------------------------------------------\u001b[0m",
      "\u001b[0;31mNameError\u001b[0m                                 Traceback (most recent call last)",
      "\u001b[0;32m<ipython-input-5-b28c2e4c65cb>\u001b[0m in \u001b[0;36m<module>\u001b[0;34m\u001b[0m\n\u001b[0;32m----> 1\u001b[0;31m fig = px.scatter(sorted_country_df.head(10), x=\"country\", y=\"confirmed\", size=\"confirmed\", color=\"country\",\n\u001b[0m\u001b[1;32m      2\u001b[0m              hover_name=\"country\", size_max=60)\n",
      "\u001b[0;31mNameError\u001b[0m: name 'sorted_country_df' is not defined"
     ]
    }
   ],
   "source": [
    "  fig = px.scatter(sorted_country_df.head(10), x=\"country\", y=\"confirmed\", size=\"confirmed\", color=\"country\",\n",
    "               hover_name=\"country\", size_max=60)"
   ]
  },
  {
   "cell_type": "code",
   "execution_count": 6,
   "metadata": {},
   "outputs": [
    {
     "ename": "NameError",
     "evalue": "name 'fig' is not defined",
     "output_type": "error",
     "traceback": [
      "\u001b[0;31m---------------------------------------------------------------------------\u001b[0m",
      "\u001b[0;31mNameError\u001b[0m                                 Traceback (most recent call last)",
      "\u001b[0;32m<ipython-input-6-6ebedab27258>\u001b[0m in \u001b[0;36m<module>\u001b[0;34m\u001b[0m\n\u001b[0;32m----> 1\u001b[0;31m \u001b[0mfig\u001b[0m\u001b[0;34m.\u001b[0m\u001b[0mshow\u001b[0m\u001b[0;34m(\u001b[0m\u001b[0;34m)\u001b[0m\u001b[0;34m\u001b[0m\u001b[0;34m\u001b[0m\u001b[0m\n\u001b[0m",
      "\u001b[0;31mNameError\u001b[0m: name 'fig' is not defined"
     ]
    }
   ],
   "source": [
    "  fig.show()"
   ]
  },
  {
   "cell_type": "code",
   "execution_count": 7,
   "metadata": {},
   "outputs": [
    {
     "ename": "NameError",
     "evalue": "name 'sorted_country_df' is not defined",
     "output_type": "error",
     "traceback": [
      "\u001b[0;31m---------------------------------------------------------------------------\u001b[0m",
      "\u001b[0;31mNameError\u001b[0m                                 Traceback (most recent call last)",
      "\u001b[0;32m<ipython-input-7-20c5c8a5ef04>\u001b[0m in \u001b[0;36m<module>\u001b[0;34m\u001b[0m\n\u001b[1;32m      1\u001b[0m px.bar(\n\u001b[0;32m----> 2\u001b[0;31m     \u001b[0msorted_country_df\u001b[0m\u001b[0;34m.\u001b[0m\u001b[0mhead\u001b[0m\u001b[0;34m(\u001b[0m\u001b[0;36m10\u001b[0m\u001b[0;34m)\u001b[0m\u001b[0;34m,\u001b[0m\u001b[0;34m\u001b[0m\u001b[0;34m\u001b[0m\u001b[0m\n\u001b[0m\u001b[1;32m      3\u001b[0m     \u001b[0mx\u001b[0m \u001b[0;34m=\u001b[0m \u001b[0;34m\"country\"\u001b[0m\u001b[0;34m,\u001b[0m\u001b[0;34m\u001b[0m\u001b[0;34m\u001b[0m\u001b[0m\n\u001b[1;32m      4\u001b[0m     \u001b[0my\u001b[0m \u001b[0;34m=\u001b[0m \u001b[0;34m\"deaths\"\u001b[0m\u001b[0;34m,\u001b[0m\u001b[0;34m\u001b[0m\u001b[0;34m\u001b[0m\u001b[0m\n\u001b[1;32m      5\u001b[0m     \u001b[0mtitle\u001b[0m\u001b[0;34m=\u001b[0m \u001b[0;34m\"I love you\"\u001b[0m\u001b[0;34m,\u001b[0m \u001b[0;31m# the axis names\u001b[0m\u001b[0;34m\u001b[0m\u001b[0;34m\u001b[0m\u001b[0m\n",
      "\u001b[0;31mNameError\u001b[0m: name 'sorted_country_df' is not defined"
     ]
    }
   ],
   "source": [
    "px.bar(\n",
    "    sorted_country_df.head(10),\n",
    "    x = \"country\",\n",
    "    y = \"deaths\",\n",
    "    title= \"I love you\", # the axis names\n",
    "    color_discrete_sequence=[\"pink\"], \n",
    "    height=500,\n",
    "    width=800\n",
    ")"
   ]
  },
  {
   "cell_type": "code",
   "execution_count": null,
   "metadata": {},
   "outputs": [],
   "source": []
  },
  {
   "cell_type": "code",
   "execution_count": null,
   "metadata": {},
   "outputs": [],
   "source": []
  }
 ],
 "metadata": {
  "kernelspec": {
   "display_name": "Python 3",
   "language": "python",
   "name": "python3"
  },
  "language_info": {
   "codemirror_mode": {
    "name": "ipython",
    "version": 3
   },
   "file_extension": ".py",
   "mimetype": "text/x-python",
   "name": "python",
   "nbconvert_exporter": "python",
   "pygments_lexer": "ipython3",
   "version": "3.7.6"
  }
 },
 "nbformat": 4,
 "nbformat_minor": 4
}
